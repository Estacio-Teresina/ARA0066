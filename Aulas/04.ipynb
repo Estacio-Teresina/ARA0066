{
 "cells": [
  {
   "attachments": {},
   "cell_type": "markdown",
   "metadata": {},
   "source": [
    "# Tipos de Dados\n",
    "\n",
    "> Um **tipo de dado** define uma coleção de valores de dados e um conjunto de operações predefinidas sobre eles. Programas de computador produzem resultados por meio da manipulação de dados. Um fator importante para determinar a facilidade com a qual eles realizam suas tarefas é quão bem os tipos de dados disponíveis na linguagem usada casam com objetos do mundo real do problema tratado. Logo, é crucial uma linguagem oferecer suporte para uma coleção apropriada de tipos e estruturas de dados.\n",
    "\n",
    "## Tipos Primitivos\n",
    "\n",
    "Tipos de dados não definidos em termos de outros são chamados de `tipos de dados primitivos`. Praticamente todas as linguagens de progrmação fornecem um conjunto de tipos de dados primitivos.\n",
    "\n",
    "### Tipos numéricos\n",
    "\n",
    "#### Inteiro\n",
    "\n",
    "É o tipo mais comum. Os hardwares suportam vários tamanhos de inteiros. Alguns dos tamanhos são suportados nativamente por algumas linguagens de programação, por exemplo os tipos (com sinal) `short`, `int` e `long`. Linguagens como `C`, `C++` e `C#` incluem também inteiros sem sinal.\n",
    "\n",
    "<br>\n",
    "\n",
    "#### Ponto flutuante\n",
    "\n",
    "É o tipo de dado que modela os números reais, ou aproximação de determinados valores ($\\pi$, por exemplo).\n",
    "\n",
    "Valores de ponto flutuante são representados como frações e expoentes, uma forma emprestada da notação científica. A maioria dos computadores mais modernos usa o formato padrão para ponto flutuante da `IEEE`, chamdo `IEEE Padrão de Ponto Flutuante 754` (*`IEEE Floating-Point Standard 754`*). A maioria das linguagens incluem dois tipos: `float` e `double`, onde o primeiro é o tamanho padrão, normalmente armazenado em 4 bytes, enquanto o segundo (de dupla precisão) costuma ocupar o dobro de armazenamento.\n",
    "\n",
    "Em `Python` é implementado somente o `float`, porém comumente como equivalente ao `double` da linguagem `C`.\n",
    "\n",
    "A coleção de valores que podem ser representados por um tipo de ponto flutuante é definida em bits de sinal, expoente e fração. Por exemplo, o `float32` (float de 32 bits) é definido da seguinte forma: 1 bit de sinal, 8 bits para expoente e 23 bits para fração. Maiores detalhes [neste link](https://en.wikipedia.org/wiki/Single-precision_floating-point_format).\n",
    "\n",
    "<br>\n",
    "\n",
    "#### Complexo\n",
    "\n",
    "Valores complexos são representados como pares ordenados de valores de ponto flutuante. Em `Python`, a parte imagináveis de um literal complexo é especificada seguindo-a por `j` ou `J`. Exemplo: `(7 + 3j)`.\n",
    "\n",
    "<br>\n",
    "\n",
    "### Tipos booleanos\n",
    "\n",
    "É, possivelmente, o tipo mais simples, pois só possui dois valores. Em `Python` os valores booleanos são as palavras `True` e `False`. Porém é comum sua representação através dos inteiros `0` (falso) e `1` (verdadeiro).\n",
    "\n",
    "<br>\n",
    "\n",
    "### Caracteres\n",
    "\n",
    "Dados na forma de caracteres são armazenados nos computadores como codificações numéricas. Tradicionalmente, a codificação mais utilizada era a ASCII (*American Standard Code for Information Interchange*) de 8 bits.\n",
    "\n",
    "Devido à globalização e, consequentemente, a necessidade de os computadores se comunicarem de forma adequada, o [`Consórcio Unicode`](https://en.wikipedia.org/wiki/Unicode_Consortium) publicou em 1991 o padrão `UCS-2` (*Universal coded Character Set 2*), um conjunto de caracteres de 16 bits, geralmente chamada de `Unicode`, o qual incliu os caracteres da maioria das linguagens naturais do mundo.\n",
    "\n",
    "Atualmente vem se tornando padrão o `UTF-8` (*UCS Transformation Format*), que associa uma sequência de 1 a 4 bytes com cada caractere `Unicode`. O tamanho variável da codificação tem seu motivo na eficiência, uma vez que 1 byte é suficiente para codificar os caracteres mais comuns.\n",
    "\n",
    "<br>\n",
    "\n",
    "### Cadeias de caracteres\n",
    "\n",
    "Uma palavra, ou uma frase, é uma `cadeia de caracteres`. Linguagens como `C` tratam palavras ou frases como um `vetor` ou `array` de caracteres, finalizados por um caractere nulo `\\0` ou uma quebra de linha `\\n`. Linguagens mais modernas, como `Java` e `Python` tratam as cadeias de caractere como um \"tipo primitivo\" chamado `String`, facilitando bastante sua manipulação.\n",
    "\n",
    "---\n",
    "\n",
    "## Estruturas de Dados\n",
    "\n",
    "As `estruturas de dados` mais comuns nas linguagens são os `arrays`, também conhecidos como `vetores`. Consistem basicamente em uma `lista` unidimensional indexada.\n",
    "\n",
    "Quando o `array`/`vetor` possui duas ou mais dimensões, então temos uma `matriz`, onde cada elemento é indexado por pelo menos dois valores (um para linha e outro para coluna).\n",
    "\n",
    "Cada linguagem possui seu próprio conjunto de estruturas de dados implementada de forma nativa, possibilitando também a implementação de outros tipos de estrutura ou ainda sua combinação.\n",
    "\n",
    "Em `Python`, as estruturas de dados nativas são:\n",
    "\n",
    "* `Listas`;\n",
    "* `Strings`;\n",
    "* `Tuplas`;\n",
    "* `Conjuntos (Sets)`;\n",
    "* `Dicionários`.\n",
    "\n",
    "<br>\n",
    "\n",
    "### Listas\n",
    "\n",
    "Uma lista é uma sequência ordenada separada por vírgula `,` e envolto em colchetes `[ ]`."
   ]
  },
  {
   "cell_type": "code",
   "execution_count": 1,
   "metadata": {},
   "outputs": [],
   "source": [
    "# Lista vazia\n",
    "vazia = []"
   ]
  },
  {
   "cell_type": "code",
   "execution_count": 2,
   "metadata": {},
   "outputs": [],
   "source": [
    "# Lista de valores inteiros e pares\n",
    "pares = [2, 4, 6, 8, 10]"
   ]
  },
  {
   "cell_type": "code",
   "execution_count": 3,
   "metadata": {},
   "outputs": [],
   "source": [
    "# Lista com tipos de dados diferentes\n",
    "diferentes = [1, 2.0, True, complex(2, 3)]"
   ]
  },
  {
   "attachments": {},
   "cell_type": "markdown",
   "metadata": {},
   "source": [
    "Acessando elementos individuais ou um grupo de elementos. A sintaxe é `a:b`, onde `a` é o primeiro índice, incluso, e `b` é o último índice, porém não incluso. Exemplo: `0:6`, inclui os índices de 0 a 5."
   ]
  },
  {
   "cell_type": "code",
   "execution_count": 4,
   "metadata": {},
   "outputs": [
    {
     "data": {
      "text/plain": [
       "2"
      ]
     },
     "execution_count": 4,
     "metadata": {},
     "output_type": "execute_result"
    }
   ],
   "source": [
    "pares[0]"
   ]
  },
  {
   "cell_type": "code",
   "execution_count": 5,
   "metadata": {},
   "outputs": [
    {
     "data": {
      "text/plain": [
       "(2+3j)"
      ]
     },
     "execution_count": 5,
     "metadata": {},
     "output_type": "execute_result"
    }
   ],
   "source": [
    "# Acessando o último elemento da lista\n",
    "diferentes[-1]"
   ]
  },
  {
   "cell_type": "code",
   "execution_count": 7,
   "metadata": {},
   "outputs": [
    {
     "data": {
      "text/plain": [
       "[2, 4]"
      ]
     },
     "execution_count": 7,
     "metadata": {},
     "output_type": "execute_result"
    }
   ],
   "source": [
    "pares[0:2]"
   ]
  },
  {
   "cell_type": "code",
   "execution_count": 8,
   "metadata": {},
   "outputs": [
    {
     "data": {
      "text/plain": [
       "[8, 10]"
      ]
     },
     "execution_count": 8,
     "metadata": {},
     "output_type": "execute_result"
    }
   ],
   "source": [
    "pares[3:]"
   ]
  },
  {
   "cell_type": "code",
   "execution_count": 9,
   "metadata": {},
   "outputs": [
    {
     "data": {
      "text/plain": [
       "[1, 2.0, True]"
      ]
     },
     "execution_count": 9,
     "metadata": {},
     "output_type": "execute_result"
    }
   ],
   "source": [
    "diferentes[:3]"
   ]
  },
  {
   "attachments": {},
   "cell_type": "markdown",
   "metadata": {},
   "source": [
    "Concatenando listas"
   ]
  },
  {
   "cell_type": "code",
   "execution_count": 10,
   "metadata": {},
   "outputs": [
    {
     "data": {
      "text/plain": [
       "[2, 4, 6, 8, 10, 1, 2.0, True, (2+3j)]"
      ]
     },
     "execution_count": 10,
     "metadata": {},
     "output_type": "execute_result"
    }
   ],
   "source": [
    "lista_concatenada = pares + diferentes\n",
    "lista_concatenada"
   ]
  },
  {
   "attachments": {},
   "cell_type": "markdown",
   "metadata": {},
   "source": [
    "Adicionando elementos à lista"
   ]
  },
  {
   "cell_type": "code",
   "execution_count": 11,
   "metadata": {},
   "outputs": [
    {
     "data": {
      "text/plain": [
       "[0, 2, 4, 6, 8, 10]"
      ]
     },
     "execution_count": 11,
     "metadata": {},
     "output_type": "execute_result"
    }
   ],
   "source": [
    "# No índice desejado\n",
    "\n",
    "pares.insert(0, 0)\n",
    "pares"
   ]
  },
  {
   "cell_type": "code",
   "execution_count": 12,
   "metadata": {},
   "outputs": [
    {
     "data": {
      "text/plain": [
       "[1, 2.0, True, (2+3j), 'a']"
      ]
     },
     "execution_count": 12,
     "metadata": {},
     "output_type": "execute_result"
    }
   ],
   "source": [
    "# Ao fim da lista\n",
    "\n",
    "diferentes.append('a')\n",
    "diferentes"
   ]
  },
  {
   "cell_type": "code",
   "execution_count": 13,
   "metadata": {},
   "outputs": [
    {
     "data": {
      "text/plain": [
       "[1, 2.0, True, (2+3j), 'a', (1+2j), 'b']"
      ]
     },
     "execution_count": 13,
     "metadata": {},
     "output_type": "execute_result"
    }
   ],
   "source": [
    "# Múltiplos elementos ao fim da lista\n",
    "diferentes.extend([complex(1, 2), 'b'])\n",
    "diferentes"
   ]
  },
  {
   "attachments": {},
   "cell_type": "markdown",
   "metadata": {},
   "source": [
    "Modificando elementos da lista"
   ]
  },
  {
   "cell_type": "code",
   "execution_count": 14,
   "metadata": {},
   "outputs": [
    {
     "name": "stdout",
     "output_type": "stream",
     "text": [
      "[0, 2, 4, 6, 8, 10]\n"
     ]
    },
    {
     "data": {
      "text/plain": [
       "[-2, 2, 4, 6, 8, 10]"
      ]
     },
     "execution_count": 14,
     "metadata": {},
     "output_type": "execute_result"
    }
   ],
   "source": [
    "print(pares)\n",
    "pares[0] = -2\n",
    "pares"
   ]
  },
  {
   "attachments": {},
   "cell_type": "markdown",
   "metadata": {},
   "source": [
    "Criando uma matriz como uma lista de listas"
   ]
  },
  {
   "cell_type": "code",
   "execution_count": 54,
   "metadata": {},
   "outputs": [
    {
     "data": {
      "text/plain": [
       "[[1, 2, 3, 4], [5, 6, 7, 8], [9, 10, 11, 12]]"
      ]
     },
     "execution_count": 54,
     "metadata": {},
     "output_type": "execute_result"
    }
   ],
   "source": [
    "matriz = [[1, 2, 3, 4], [5, 6, 7, 8], [9, 10, 11, 12]]\n",
    "matriz"
   ]
  },
  {
   "cell_type": "code",
   "execution_count": 61,
   "metadata": {},
   "outputs": [
    {
     "name": "stdout",
     "output_type": "stream",
     "text": [
      "1 2 3 4 \n",
      "5 6 7 8 \n",
      "9 10 11 12 \n"
     ]
    }
   ],
   "source": [
    "# Imprimindo uma matriz de forma \"estilizada\"\n",
    "\n",
    "linhas, colunas = 3, 4\n",
    "\n",
    "for linha in range(linhas):\n",
    "    for coluna in range(colunas):\n",
    "        print(matriz[linha][coluna], end=\" \")\n",
    "    print()"
   ]
  },
  {
   "cell_type": "code",
   "execution_count": 62,
   "metadata": {},
   "outputs": [
    {
     "name": "stdout",
     "output_type": "stream",
     "text": [
      "[[0, 1, 2, 3], [0, 1, 2, 3], [0, 1, 2, 3], [0, 1, 2, 3]]\n"
     ]
    }
   ],
   "source": [
    "# Forma elegante de se criar uma matriz (usando [list comprehension](https://www.geeksforgeeks.org/python-list-comprehension-and-slicing/))\n",
    "\n",
    "matriz = [[coluna for coluna in range(4)] for linha in range(4)]\n",
    " \n",
    "print(matriz)"
   ]
  },
  {
   "attachments": {},
   "cell_type": "markdown",
   "metadata": {},
   "source": [
    "Contudo, manipular matrizes é mais fácil ao se utilizar a biblioteca [Numpy](https://numpy.org/)."
   ]
  },
  {
   "attachments": {},
   "cell_type": "markdown",
   "metadata": {},
   "source": [
    "<br>\n",
    "\n",
    "### Strings\n",
    "\n",
    "Uma `String`, como já vimos, é um conjunto de caracteres. Em `Python` uma `String` pode ser expressa com aspas simples `' '` ou aspas duplas `\" \"`. Uma `String` pode ser também associada a uma variável e, portanto, ser manipulada.\n",
    "\n",
    "Para imprimir algum conteúdo no terminal é preciso utilizar a função `print`. E, caso você queira \"ler\" algum conteúdo do terminal, basta utilizar a função `input`.\n",
    "\n",
    "Vimos, há pouco, que um comentário de 1 linha pode ser escrito ao se utilizar `#` antes. Se você necessitar de um comentário, ou string de várias linhas, basta utilizar aspas simples ou duplas três vezes: `''' ... '''`."
   ]
  },
  {
   "cell_type": "code",
   "execution_count": 15,
   "metadata": {},
   "outputs": [
    {
     "data": {
      "text/plain": [
       "'Minha String'"
      ]
     },
     "execution_count": 15,
     "metadata": {},
     "output_type": "execute_result"
    }
   ],
   "source": [
    "a = 'Minha String'\n",
    "a"
   ]
  },
  {
   "cell_type": "code",
   "execution_count": 16,
   "metadata": {},
   "outputs": [
    {
     "data": {
      "text/plain": [
       "'Minha String'"
      ]
     },
     "execution_count": 16,
     "metadata": {},
     "output_type": "execute_result"
    }
   ],
   "source": [
    "a = \"Minha String\"\n",
    "a"
   ]
  },
  {
   "cell_type": "code",
   "execution_count": 17,
   "metadata": {},
   "outputs": [
    {
     "data": {
      "text/plain": [
       "'Olá mundo!'"
      ]
     },
     "execution_count": 17,
     "metadata": {},
     "output_type": "execute_result"
    }
   ],
   "source": [
    "\"\"\"\n",
    "Comentário com\n",
    "várias\n",
    "linhas\n",
    "\"\"\"\n",
    "a = 'Olá mundo!'\n",
    "a"
   ]
  },
  {
   "cell_type": "code",
   "execution_count": 18,
   "metadata": {},
   "outputs": [
    {
     "data": {
      "text/plain": [
       "'Olá de novo mundo!'"
      ]
     },
     "execution_count": 18,
     "metadata": {},
     "output_type": "execute_result"
    }
   ],
   "source": [
    "'''\n",
    "Comentário com\n",
    "várias\n",
    "linhas\n",
    "'''\n",
    "a = 'Olá de novo mundo!'\n",
    "a"
   ]
  },
  {
   "cell_type": "code",
   "execution_count": 19,
   "metadata": {},
   "outputs": [
    {
     "name": "stdout",
     "output_type": "stream",
     "text": [
      "Mensagem do usuário\n"
     ]
    }
   ],
   "source": [
    "# A função input recebe como parâmetro a mensagem que será mostrada ao usuário\n",
    "a = input(\"Escreva alguma coisa: \")\n",
    "\n",
    "print(a)"
   ]
  },
  {
   "attachments": {},
   "cell_type": "markdown",
   "metadata": {},
   "source": [
    "`Strings` podem ser `concatenadas` com o operador de adição `+`. Ao mesmo tempo, você pode repetir uma string ao multiplicá-la por algum valor escalar."
   ]
  },
  {
   "cell_type": "code",
   "execution_count": 20,
   "metadata": {},
   "outputs": [
    {
     "data": {
      "text/plain": [
       "'Estringue'"
      ]
     },
     "execution_count": 20,
     "metadata": {},
     "output_type": "execute_result"
    }
   ],
   "source": [
    "a = 'Es'\n",
    "b = 'tringue'\n",
    "\n",
    "a+b"
   ]
  },
  {
   "cell_type": "code",
   "execution_count": 21,
   "metadata": {},
   "outputs": [
    {
     "data": {
      "text/plain": [
       "'Ratatata'"
      ]
     },
     "execution_count": 21,
     "metadata": {},
     "output_type": "execute_result"
    }
   ],
   "source": [
    "a = 'Ra'\n",
    "b = 'ta'\n",
    "\n",
    "a + 3*b"
   ]
  },
  {
   "cell_type": "code",
   "execution_count": 22,
   "metadata": {},
   "outputs": [
    {
     "data": {
      "text/plain": [
       "'tatatatataravô'"
      ]
     },
     "execution_count": 22,
     "metadata": {},
     "output_type": "execute_result"
    }
   ],
   "source": [
    "a = 'ta'\n",
    "b = 'ravô'\n",
    "\n",
    "5*a + b"
   ]
  },
  {
   "attachments": {},
   "cell_type": "markdown",
   "metadata": {},
   "source": [
    "Lembrando que uma string é um `conjunto` de caracteres, é possível acessar cada caractere da string."
   ]
  },
  {
   "cell_type": "code",
   "execution_count": 23,
   "metadata": {},
   "outputs": [
    {
     "data": {
      "text/plain": [
       "'O'"
      ]
     },
     "execution_count": 23,
     "metadata": {},
     "output_type": "execute_result"
    }
   ],
   "source": [
    "a = 'Olá mundo!'\n",
    "\n",
    "a[0]"
   ]
  },
  {
   "cell_type": "code",
   "execution_count": 24,
   "metadata": {},
   "outputs": [
    {
     "data": {
      "text/plain": [
       "' mundo!'"
      ]
     },
     "execution_count": 24,
     "metadata": {},
     "output_type": "execute_result"
    }
   ],
   "source": [
    "# De uma posição até o fim\n",
    "a[3:]"
   ]
  },
  {
   "cell_type": "code",
   "execution_count": 25,
   "metadata": {},
   "outputs": [
    {
     "data": {
      "text/plain": [
       "'!'"
      ]
     },
     "execution_count": 25,
     "metadata": {},
     "output_type": "execute_result"
    }
   ],
   "source": [
    "# A última posição\n",
    "a[-1]"
   ]
  },
  {
   "cell_type": "code",
   "execution_count": 26,
   "metadata": {},
   "outputs": [
    {
     "data": {
      "text/plain": [
       "10"
      ]
     },
     "execution_count": 26,
     "metadata": {},
     "output_type": "execute_result"
    }
   ],
   "source": [
    "# A função len retorna o comprimento. Neste caso, o comprimento da String, incluindo os espaços vazios\n",
    "len(a)"
   ]
  },
  {
   "cell_type": "code",
   "execution_count": 27,
   "metadata": {},
   "outputs": [
    {
     "ename": "TypeError",
     "evalue": "'str' object does not support item assignment",
     "output_type": "error",
     "traceback": [
      "\u001b[0;31m---------------------------------------------------------------------------\u001b[0m",
      "\u001b[0;31mTypeError\u001b[0m                                 Traceback (most recent call last)",
      "Cell \u001b[0;32mIn[27], line 2\u001b[0m\n\u001b[1;32m      1\u001b[0m \u001b[39m# Strings são imutáveis. Não dá para trocar o 'O' pelo 'A'\u001b[39;00m\n\u001b[0;32m----> 2\u001b[0m a[\u001b[39m0\u001b[39;49m] \u001b[39m=\u001b[39m \u001b[39m\"\u001b[39m\u001b[39mA\u001b[39m\u001b[39m\"\u001b[39m\n\u001b[1;32m      3\u001b[0m a\n",
      "\u001b[0;31mTypeError\u001b[0m: 'str' object does not support item assignment"
     ]
    }
   ],
   "source": [
    "# Strings são imutáveis. Não dá para trocar o 'O' pelo 'A'\n",
    "a[0] = \"A\"\n",
    "a"
   ]
  },
  {
   "attachments": {},
   "cell_type": "markdown",
   "metadata": {},
   "source": [
    "Como é um conjunto, então é também possível `iterar` sobre uma string:"
   ]
  },
  {
   "cell_type": "code",
   "execution_count": 28,
   "metadata": {},
   "outputs": [
    {
     "name": "stdout",
     "output_type": "stream",
     "text": [
      "O\n",
      "l\n",
      "á\n",
      " \n",
      "m\n",
      "u\n",
      "n\n",
      "d\n",
      "o\n",
      "!\n"
     ]
    }
   ],
   "source": [
    "for i in a:\n",
    "    print(i)"
   ]
  },
  {
   "attachments": {},
   "cell_type": "markdown",
   "metadata": {},
   "source": [
    "<br>\n",
    "\n",
    "### Tuplas\n",
    "\n",
    "Tuplas são quase idênticas a listas, ou seja, são uma sequência ordenada de valores ou elementos, os quais podem ser de diferentes tipos. São duas as principais diferenças:\n",
    "\n",
    "1. Tuplas são imutáveis.\n",
    "2. Tuplas são envoltas em parênteses `( )`.\n",
    "\n",
    "Uma vez que são imutáveis, não é possível adicionar ou remover elementos de uma tupla. Por causa disso, é possível criar `constantes` com múltiplos valores, os quais podem ser acessados mais rapidamente do que em uma lista."
   ]
  },
  {
   "cell_type": "code",
   "execution_count": 29,
   "metadata": {},
   "outputs": [],
   "source": [
    "# Tupla vazia\n",
    "tupla_vazia = ()"
   ]
  },
  {
   "cell_type": "code",
   "execution_count": 30,
   "metadata": {},
   "outputs": [],
   "source": [
    "# Criando uma tupla vazia com a função nativa\n",
    "tupla_vazia = tuple()"
   ]
  },
  {
   "cell_type": "code",
   "execution_count": 31,
   "metadata": {},
   "outputs": [],
   "source": [
    "# Tupla com apenas 1 elemento\n",
    "tuplinha = (1, ) # tem que ter a vírgula, mesmo que tenha só 1 elemento"
   ]
  },
  {
   "cell_type": "code",
   "execution_count": 32,
   "metadata": {},
   "outputs": [
    {
     "data": {
      "text/plain": [
       "(1, 2, 3, 4)"
      ]
     },
     "execution_count": 32,
     "metadata": {},
     "output_type": "execute_result"
    }
   ],
   "source": [
    "# Tupla de inteiros\n",
    "tuplint = (1, 2, 3, 4)\n",
    "tuplint"
   ]
  },
  {
   "cell_type": "code",
   "execution_count": 33,
   "metadata": {},
   "outputs": [],
   "source": [
    "# Tupla de tipos diferentes, sem usar os parênteses\n",
    "tupliferente = 1, 2.0, complex(4, 5), 'Que?'"
   ]
  },
  {
   "attachments": {},
   "cell_type": "markdown",
   "metadata": {},
   "source": [
    "Tuplas também podem ser concatenadas"
   ]
  },
  {
   "cell_type": "code",
   "execution_count": 34,
   "metadata": {},
   "outputs": [
    {
     "data": {
      "text/plain": [
       "(1, 2, 3, 4, 1, 2.0, (4+5j), 'Que?')"
      ]
     },
     "execution_count": 34,
     "metadata": {},
     "output_type": "execute_result"
    }
   ],
   "source": [
    "tupla_concatenada = tuplint + tupliferente\n",
    "tupla_concatenada"
   ]
  },
  {
   "attachments": {},
   "cell_type": "markdown",
   "metadata": {},
   "source": [
    "Podemos acessar elementos únicos, ou um conjunto deles, através dos índices"
   ]
  },
  {
   "cell_type": "code",
   "execution_count": 35,
   "metadata": {},
   "outputs": [
    {
     "data": {
      "text/plain": [
       "3"
      ]
     },
     "execution_count": 35,
     "metadata": {},
     "output_type": "execute_result"
    }
   ],
   "source": [
    "tuplint[2]"
   ]
  },
  {
   "cell_type": "code",
   "execution_count": 36,
   "metadata": {},
   "outputs": [
    {
     "data": {
      "text/plain": [
       "((4+5j), 'Que?')"
      ]
     },
     "execution_count": 36,
     "metadata": {},
     "output_type": "execute_result"
    }
   ],
   "source": [
    "tupliferente[2:]"
   ]
  },
  {
   "attachments": {},
   "cell_type": "markdown",
   "metadata": {},
   "source": [
    "<br>\n",
    "\n",
    "### Conjuntos (Sets)\n",
    "\n",
    "Um `Set` em `Python` é um conjunto `não ordenado` de valores ou elementos. O `Set` é mutável, porém cada elemento é imutável. Além disso essa estrutura de dados não permite múltiplas ocorrências do mesmo elemento.\n",
    "\n",
    "Um `Set` é criado ao se utilizar chaves `{ }`, ou a função nativa `set`."
   ]
  },
  {
   "cell_type": "code",
   "execution_count": 37,
   "metadata": {},
   "outputs": [],
   "source": [
    "# Criando um conjunto vazio\n",
    "conjunto_vazio = set()"
   ]
  },
  {
   "cell_type": "code",
   "execution_count": 38,
   "metadata": {},
   "outputs": [
    {
     "data": {
      "text/plain": [
       "{1, 2, 3, 4, 5}"
      ]
     },
     "execution_count": 38,
     "metadata": {},
     "output_type": "execute_result"
    }
   ],
   "source": [
    "# Conjunto de inteiros\n",
    "inteiros = {1, 2, 3, 4, 5}\n",
    "inteiros"
   ]
  },
  {
   "cell_type": "code",
   "execution_count": 39,
   "metadata": {},
   "outputs": [
    {
     "name": "stdout",
     "output_type": "stream",
     "text": [
      "{'y', ' ', 'e', 'o', 'h', 'P', 'n', 't', 'S', 's'}\n"
     ]
    }
   ],
   "source": [
    "# Conjunto de caracteres ... a função set 'quebra' a string\n",
    "caraquiteres = set('Python Sets')\n",
    "print(caraquiteres)"
   ]
  },
  {
   "attachments": {},
   "cell_type": "markdown",
   "metadata": {},
   "source": [
    "Perceba que existem duas letras `s`. Mas não era proibido valores duplicados? Nesse caso existe a diferença entre `S` e `s`.\n",
    "\n",
    "O método `add` adiciona um elemento único, enquanto o método `update` adiciona vários novos elementos. Duplicatas são ignoradas."
   ]
  },
  {
   "cell_type": "code",
   "execution_count": 40,
   "metadata": {},
   "outputs": [
    {
     "data": {
      "text/plain": [
       "{' ', 'P', 'S', 'T', 'e', 'h', 'n', 'o', 's', 't', 'y'}"
      ]
     },
     "execution_count": 40,
     "metadata": {},
     "output_type": "execute_result"
    }
   ],
   "source": [
    "caraquiteres.add('T')\n",
    "caraquiteres"
   ]
  },
  {
   "cell_type": "code",
   "execution_count": 41,
   "metadata": {},
   "outputs": [
    {
     "data": {
      "text/plain": [
       "{' ', 'P', 'S', 'T', 'e', 'h', 'n', 'o', 'r', 's', 't', 'u', 'v', 'y'}"
      ]
     },
     "execution_count": 41,
     "metadata": {},
     "output_type": "execute_result"
    }
   ],
   "source": [
    "caraquiteres.update(['s', 'r', 't', 'u', 'v'])\n",
    "caraquiteres"
   ]
  },
  {
   "attachments": {},
   "cell_type": "markdown",
   "metadata": {},
   "source": [
    "Para remover um item é possível utilizar o método `pop`. Não é possível indicar o índice que queremos, pois o `Set` é `não ordenado`."
   ]
  },
  {
   "cell_type": "code",
   "execution_count": 42,
   "metadata": {},
   "outputs": [
    {
     "name": "stdout",
     "output_type": "stream",
     "text": [
      "{1, 2, 3, 4, 5}\n",
      "{2, 3, 4, 5}\n"
     ]
    }
   ],
   "source": [
    "print(inteiros)\n",
    "inteiros.pop()\n",
    "print(inteiros)"
   ]
  },
  {
   "attachments": {},
   "cell_type": "markdown",
   "metadata": {},
   "source": [
    "O conjunto `inteiros` está *aparentemente* ordenado por causa da `função hash` que é utilizada para armazenar os valores.\n",
    "\n",
    "Se soubermos o elemento exato que queremos retirar do `Set`, é possível utilizar o método `remove`."
   ]
  },
  {
   "cell_type": "code",
   "execution_count": 43,
   "metadata": {},
   "outputs": [
    {
     "name": "stdout",
     "output_type": "stream",
     "text": [
      "{'y', ' ', 'e', 'T', 'r', 'o', 'h', 'P', 'n', 'v', 't', 'u', 'S', 's'}\n",
      "{'y', ' ', 'e', 'r', 'o', 'h', 'P', 'n', 'v', 't', 'u', 'S', 's'}\n"
     ]
    }
   ],
   "source": [
    "print(caraquiteres)\n",
    "caraquiteres.remove('T')\n",
    "print(caraquiteres)"
   ]
  },
  {
   "attachments": {},
   "cell_type": "markdown",
   "metadata": {},
   "source": [
    "Se o elemento especificado no método `remove` não estiver no conjunto, será gerado um erro. Para que o erro não seja gerado, pode ser utilizado o método `discard`.\n",
    "\n",
    "E se o `Set` não tem índices, então não tem como iterar, certo?\n",
    "\n",
    "Na verdade o `Python` permite a iteração, pois o `for` não itera sobre os índices, mas sim sobre os elementos."
   ]
  },
  {
   "cell_type": "code",
   "execution_count": 44,
   "metadata": {},
   "outputs": [
    {
     "name": "stdout",
     "output_type": "stream",
     "text": [
      "y\n",
      " \n",
      "e\n",
      "r\n",
      "o\n",
      "h\n",
      "P\n",
      "n\n",
      "v\n",
      "t\n",
      "u\n",
      "S\n",
      "s\n"
     ]
    }
   ],
   "source": [
    "for i in caraquiteres:\n",
    "    print(i)"
   ]
  },
  {
   "attachments": {},
   "cell_type": "markdown",
   "metadata": {},
   "source": [
    "<br>\n",
    "\n",
    "### Dicionários\n",
    "\n",
    "Um `Dicionário` é um conjunto ordenado de pares `chave-valor`. Os elementos são separados por vírgula `,` e a chave é separada do valor por dois pontos `:`. Essa estrutura de dados é envolta em chaves `{ }`."
   ]
  },
  {
   "cell_type": "code",
   "execution_count": 45,
   "metadata": {},
   "outputs": [],
   "source": [
    "# Criando um dicionário vazio\n",
    "dicio_vazio = {}"
   ]
  },
  {
   "cell_type": "code",
   "execution_count": 46,
   "metadata": {},
   "outputs": [],
   "source": [
    "# Criando dicionário vazio com a função nativa\n",
    "dicio_vazio = dict()"
   ]
  },
  {
   "cell_type": "code",
   "execution_count": 47,
   "metadata": {},
   "outputs": [
    {
     "data": {
      "text/plain": [
       "{1: 'a', 2: 'b', 3: 'c', 4: 'd', 5: 'e'}"
      ]
     },
     "execution_count": 47,
     "metadata": {},
     "output_type": "execute_result"
    }
   ],
   "source": [
    "# Dicionário com chaves inteiras\n",
    "diciointeiro = {1:'a', 2:'b', 3:'c', 4:'d', 5:'e'}\n",
    "diciointeiro"
   ]
  },
  {
   "cell_type": "code",
   "execution_count": 48,
   "metadata": {},
   "outputs": [
    {
     "data": {
      "text/plain": [
       "{1: 'a', (7+8j): 'b', 3.0: 'c'}"
      ]
     },
     "execution_count": 48,
     "metadata": {},
     "output_type": "execute_result"
    }
   ],
   "source": [
    "# Chaves de tipos diferentes\n",
    "dicioferente = {1:'a', complex(7,8):'b', 3.0:'c'}\n",
    "dicioferente"
   ]
  },
  {
   "cell_type": "code",
   "execution_count": 49,
   "metadata": {},
   "outputs": [
    {
     "data": {
      "text/plain": [
       "'a'"
      ]
     },
     "execution_count": 49,
     "metadata": {},
     "output_type": "execute_result"
    }
   ],
   "source": [
    "# Valores são acessados pela chave\n",
    "diciointeiro[1]"
   ]
  },
  {
   "attachments": {},
   "cell_type": "markdown",
   "metadata": {},
   "source": [
    "Adicionando novos elementos"
   ]
  },
  {
   "cell_type": "code",
   "execution_count": 50,
   "metadata": {},
   "outputs": [
    {
     "data": {
      "text/plain": [
       "{1: 'a', 2: 'b', 3: 'c', 4: 'd', 5: 'e', 6: 'f'}"
      ]
     },
     "execution_count": 50,
     "metadata": {},
     "output_type": "execute_result"
    }
   ],
   "source": [
    "# Adicionando ao definir uma nova chave e seu valor correspondente\n",
    "diciointeiro[6] = 'f'\n",
    "diciointeiro"
   ]
  },
  {
   "attachments": {},
   "cell_type": "markdown",
   "metadata": {},
   "source": [
    "Atualizando um elemento"
   ]
  },
  {
   "cell_type": "code",
   "execution_count": 51,
   "metadata": {},
   "outputs": [
    {
     "data": {
      "text/plain": [
       "{1: 'aa', 2: 'b', 3: 'c', 4: 'd', 5: 'e', 6: 'f'}"
      ]
     },
     "execution_count": 51,
     "metadata": {},
     "output_type": "execute_result"
    }
   ],
   "source": [
    "diciointeiro[1] = 'aa'\n",
    "diciointeiro"
   ]
  },
  {
   "attachments": {},
   "cell_type": "markdown",
   "metadata": {},
   "source": [
    "A `iteração` sobre um `dicionário` acontece pelas suas chaves."
   ]
  },
  {
   "cell_type": "code",
   "execution_count": 52,
   "metadata": {},
   "outputs": [
    {
     "name": "stdout",
     "output_type": "stream",
     "text": [
      "1\n",
      "(7+8j)\n",
      "3.0\n"
     ]
    }
   ],
   "source": [
    "for i in dicioferente:\n",
    "    print(i)"
   ]
  },
  {
   "cell_type": "code",
   "execution_count": 53,
   "metadata": {},
   "outputs": [
    {
     "name": "stdout",
     "output_type": "stream",
     "text": [
      "a\n",
      "b\n",
      "c\n"
     ]
    }
   ],
   "source": [
    "for i in dicioferente:\n",
    "    print(dicioferente[i])"
   ]
  },
  {
   "attachments": {},
   "cell_type": "markdown",
   "metadata": {},
   "source": [
    "---\n",
    "\n",
    "## Exercícios\n",
    "\n",
    "1. [Vetores e matrizes](https://www.facom.ufu.br/~backes/gbt017/ListaPython04.pdf)\n",
    "2. [Strings](https://wiki.python.org.br/ExerciciosComStrings)\n",
    "3. [Listas](https://wiki.python.org.br/ExerciciosListas)"
   ]
  }
 ],
 "metadata": {
  "kernelspec": {
   "display_name": "Python 3",
   "language": "python",
   "name": "python3"
  },
  "language_info": {
   "codemirror_mode": {
    "name": "ipython",
    "version": 3
   },
   "file_extension": ".py",
   "mimetype": "text/x-python",
   "name": "python",
   "nbconvert_exporter": "python",
   "pygments_lexer": "ipython3",
   "version": "3.10.6"
  },
  "orig_nbformat": 4
 },
 "nbformat": 4,
 "nbformat_minor": 2
}
