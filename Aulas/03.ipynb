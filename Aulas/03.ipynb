{
 "cells": [
  {
   "attachments": {},
   "cell_type": "markdown",
   "metadata": {},
   "source": [
    "# Aula 03\n",
    "\n",
    "---\n",
    "\n",
    "* Tema da ementa\n",
    "  * NOMES, VINCULAÇÕES E ESCOPO\n",
    "* Tópico\n",
    "  * 2.2 ESCOPO\n",
    "* Objetivo\n",
    "  * Entender o conceito de Escopo de uma linguagem e sua importância na manipulação de variáveis\n",
    "\n",
    "Aula baseada no Capítulo 5 do livro: \n",
    "\n",
    "SEBESTA, Robert W. **Conceitos de Linguagens de Programação**. 11a Ed. Porto Alegre: Bookkman, 2018.\n",
    "\n",
    "---\n",
    "\n",
    "Um dos fatores mais importantes para o entendimento das variáveis é o `escopo`.\n",
    "\n",
    "> O `escopo` de uma variável é a faixa de sentenças nas quais ela é visível.\n",
    "\n",
    "> Uma variável é `visível` em uma sentença se ela pode ser **referenciada** ou **atribuída** nessa sentença.\n",
    "\n",
    "O `escopo` mais comum é o **local**.\n",
    "\n",
    "> Uma variável é **local** a uma unidade ou a um bloco de programa se for declarada lá. As variáveis não locais de uma unidade ou de um bloco de programa são aquelas visíveis dentro da unidade ou do bloco de programa, mas não declaradas nessa unidade ou nesse bloco.\n",
    "\n",
    "## Escopo Estático\n",
    "\n",
    "O `escopo estático` é a vinculação de nomes a variáveis não locais. Foi introduzido pelo ALGOL 60.\n",
    "\n",
    "Existem duas categorias de linguagens de `escopo estático`: aquelas nas quais os subprogramas podem ser aninhados, as quais criam escopos estáticos aninhados, e aquelas nas quais os subprogramas não podem ser aninhados.\n",
    "\n",
    "`Ada`, `JavaScript`, `Common Lisp`, `Scheme`, `Fortran 2003+`, `F#` e `Python` permitem subprogramas aninhandos, mas as linguagens baseadas em `C` não.\n",
    "\n",
    "Exemplo (JavaScript):\n",
    "\n",
    "```javascript\n",
    "function big(){\n",
    "  function sub1(){\n",
    "    var x = 7;\n",
    "    sub2();\n",
    "  }\n",
    "  function sub2(){\n",
    "    var y = x;\n",
    "  }\n",
    "  var x = 3;\n",
    "  sub1();\n",
    "}\n",
    "```\n",
    "\n",
    "De onde vem a variável `x` no procedimento `sub2`?\n",
    "\n",
    "A busca pelo `x` começa no procedimento no qual a referência ocorre, `sub2`, mas nenhuma declaração para `x` é encontrada lá. A busca continua no `pai estático` de `sub2`, que é `big`, onde a declaração de `x` é encontrada. O `x` declarado em `sub1` é ignorado porque não está nos `ancestrais estáticos` de `sub2`.\n",
    "\n",
    "## Blocos\n",
    "\n",
    "Os `blocos` são `escopos estáticos` definidos no meio do código executável. Esse conceito permite a uma seção de código ter suas próprias variáveis locais.\n",
    "\n",
    "Os `escopos` criados por `blocos`, que podem ser aninhados em blocos maiores, são tratados exatamente como aqueles criados por subprogramas. Referências a variáveis em um `bloco` e que não estão declaradas lá são conectadas às declarações por meio da busca pelos `escopos` que o envolvem (`blocos` ou subprogramas), por ordem de tamanho (do menor para o maior).\n",
    "\n",
    "Exemplo (C):\n",
    "\n",
    "```c\n",
    "void sub(){\n",
    "  int count;\n",
    "  ...\n",
    "  while(...){\n",
    "    int count;\n",
    "    count++;\n",
    "    ...\n",
    "  }\n",
    "}\n",
    "```\n",
    "\n",
    "No exemplo dado, a variável `count` dentro do `while` é local para o `while`, e não tem referência para a variável `count` declara no procedimento `sub`.\n",
    "\n",
    "É necessário que o desenvolvedor conheça bem a linguagem que está utilizando. Por exemplo, o código do exemplo acima é válido em `C`e `C++`, porém é inválido em `Java` e `C#`, pois seus projetistas consideraram que o reúso de nomes em blocos aninhados era muito propenso a erros para ser permitido.\n",
    "\n",
    "Enquanto isso, em `JavaScript`, blocos que não são função não podem ser definidos, mesmo que a linguagem utilize `escopo estático`.\n",
    "\n",
    "## Escopo Global\n",
    "\n",
    "Algumas linguagens (dentre elas o `Python`) permitem uma estrutura de programa que é uma sequência de definição de funções, nas quais as definições de variáveis podem aparecer fora das funções. Definições fora de funções em um arquivo criam `variáveis globais`, potencialmente visíveis para essas funções.\n",
    "\n",
    "As regras de visibilidade para `variáveis globais` em `Python` não são usuais, pois as variáveis não são declaradas normalmente. Elas são implicitamente declaradas quando aparecem como alvos de sentenças de atribuição. Uma `variável global` pode ser referenciada em uma função, mas pode ter valores atribuídos a ela apenas se tiver sido declarada como global na função. Vejamos alguns exemplos:"
   ]
  },
  {
   "cell_type": "code",
   "execution_count": 5,
   "metadata": {},
   "outputs": [
    {
     "name": "stdout",
     "output_type": "stream",
     "text": [
      "O dia global é: Segunda\n"
     ]
    }
   ],
   "source": [
    "dia = 'Segunda'\n",
    "\n",
    "def teste():\n",
    "    print('O dia global é:', dia)\n",
    "\n",
    "teste()"
   ]
  },
  {
   "cell_type": "code",
   "execution_count": 8,
   "metadata": {},
   "outputs": [
    {
     "ename": "UnboundLocalError",
     "evalue": "local variable 'dia' referenced before assignment",
     "output_type": "error",
     "traceback": [
      "\u001b[0;31m---------------------------------------------------------------------------\u001b[0m",
      "\u001b[0;31mUnboundLocalError\u001b[0m                         Traceback (most recent call last)",
      "Cell \u001b[0;32mIn[8], line 8\u001b[0m\n\u001b[1;32m      5\u001b[0m     dia \u001b[39m=\u001b[39m \u001b[39m'\u001b[39m\u001b[39mTerça\u001b[39m\u001b[39m'\u001b[39m\n\u001b[1;32m      6\u001b[0m     \u001b[39mprint\u001b[39m(\u001b[39m'\u001b[39m\u001b[39mO novo valor do dia é:\u001b[39m\u001b[39m'\u001b[39m, dia)\n\u001b[0;32m----> 8\u001b[0m teste()\n",
      "Cell \u001b[0;32mIn[8], line 4\u001b[0m, in \u001b[0;36mteste\u001b[0;34m()\u001b[0m\n\u001b[1;32m      3\u001b[0m \u001b[39mdef\u001b[39;00m \u001b[39mteste\u001b[39m():\n\u001b[0;32m----> 4\u001b[0m     \u001b[39mprint\u001b[39m(\u001b[39m'\u001b[39m\u001b[39mO dia global é:\u001b[39m\u001b[39m'\u001b[39m, dia)\n\u001b[1;32m      5\u001b[0m     dia \u001b[39m=\u001b[39m \u001b[39m'\u001b[39m\u001b[39mTerça\u001b[39m\u001b[39m'\u001b[39m\n\u001b[1;32m      6\u001b[0m     \u001b[39mprint\u001b[39m(\u001b[39m'\u001b[39m\u001b[39mO novo valor do dia é:\u001b[39m\u001b[39m'\u001b[39m, dia)\n",
      "\u001b[0;31mUnboundLocalError\u001b[0m: local variable 'dia' referenced before assignment"
     ]
    }
   ],
   "source": [
    "dia = 'Segunda'\n",
    "\n",
    "def teste():\n",
    "    print('O dia global é:', dia)\n",
    "    dia = 'Terça'\n",
    "    print('O novo valor do dia é:', dia)\n",
    "\n",
    "teste()"
   ]
  },
  {
   "attachments": {},
   "cell_type": "markdown",
   "metadata": {},
   "source": [
    "O erro aconteceu porque tentamos transformar a `variável global` `dia` em uma `variável local`.\n",
    "\n",
    "Para informar ao interpretador do `Python` que queremos usar a mesma variável, podemos fazer da seguinte forma:"
   ]
  },
  {
   "cell_type": "code",
   "execution_count": 1,
   "metadata": {},
   "outputs": [
    {
     "name": "stdout",
     "output_type": "stream",
     "text": [
      "O dia global é: Segunda\n",
      "O novo valor do dia é: Terça\n"
     ]
    }
   ],
   "source": [
    "dia = 'Segunda'\n",
    "\n",
    "def teste():\n",
    "    global dia # indicando que é a variável global a ser manipulada\n",
    "    print('O dia global é:', dia)\n",
    "    dia = 'Terça'\n",
    "    print('O novo valor do dia é:', dia)\n",
    "\n",
    "teste()"
   ]
  },
  {
   "attachments": {},
   "cell_type": "markdown",
   "metadata": {},
   "source": [
    "Quando temos funções aninhadas e utilizamos alguma variável não global, porém também não local àquele bloco, podemos utilizar a palavra reservada `nonlocal`."
   ]
  },
  {
   "cell_type": "code",
   "execution_count": 6,
   "metadata": {},
   "outputs": [
    {
     "name": "stdout",
     "output_type": "stream",
     "text": [
      "3\n"
     ]
    }
   ],
   "source": [
    "def teste():\n",
    "    x = 2\n",
    "\n",
    "    def teste2():\n",
    "        nonlocal x\n",
    "        y = x + 1\n",
    "        print(y)\n",
    "    \n",
    "    teste2()\n",
    "\n",
    "teste()"
   ]
  },
  {
   "attachments": {},
   "cell_type": "markdown",
   "metadata": {},
   "source": [
    "## Escopo Dinâmico\n",
    "\n",
    "O `escopo dinâmico` é baseado na **sequência de chamadas de subprogramas**, não em seu relacionamento espacial uns com os outros. Logo, o `escopo` pode ser determinado apenas em tempo de execução.\n",
    "\n",
    "Revisitando o exemplo:\n",
    "\n",
    "```javascript\n",
    "function big(){\n",
    "  function sub1(){\n",
    "    var x = 7;\n",
    "    sub2();\n",
    "  }\n",
    "  function sub2(){\n",
    "    var y = x;\n",
    "  }\n",
    "  var x = 3;\n",
    "  sub1();\n",
    "}\n",
    "```\n",
    "\n",
    "Assumindo que as regras de `escopo dinâmico` se aplicam a referências não locais, o significado do identificador `x` referenciado em `sub2` é dinâmico. Quando a busca por declarações locais falha, as declarações do `pai dinâmico`, o procedimento que o chamou, são procuradas. Se não for encontrada, a busca continua pelos `ancestrais dinâmicos`.\n",
    "\n",
    "No exemplo dado `big` chama `sub1`, o qual chama `sub2`. Como o `x` não está declarado em `sub2` a busca continua em seu chamador, `sub1`, onde existe a declaração. Dessa forma o `x` em `big` é ignorado.\n",
    "\n",
    "## Escopo e Tempo de Vida\n",
    "\n",
    "Considere o seguinte exemplo em C++:\n",
    "\n",
    "```c++\n",
    "void printheader(){\n",
    "    ...\n",
    "} /* fim de printheader */\n",
    "\n",
    "void compute(){\n",
    "    int sum;\n",
    "    ...\n",
    "    printheader();\n",
    "} /* fim de compute */\n",
    "```\n",
    "\n",
    "O `escopo` da vairável `sum` é completamente contido na função `compute`. Ele não se estende até o corpo da função `printheader`, apesar de `printheader` executar no meio da execução de `compute`. Entretanto, o tempo de vida de `sum` se estende por todo o período em que `printheader` é executada.\n",
    "\n",
    "---\n",
    "\n",
    "## Exercícios\n",
    "\n",
    "* [Lista 1](https://wiki.python.org.br/EstruturaDeDecisao)\n",
    "* [Lista 2](https://wiki.python.org.br/EstruturaDeRepeticao)"
   ]
  }
 ],
 "metadata": {
  "kernelspec": {
   "display_name": "Python 3",
   "language": "python",
   "name": "python3"
  },
  "language_info": {
   "codemirror_mode": {
    "name": "ipython",
    "version": 3
   },
   "file_extension": ".py",
   "mimetype": "text/x-python",
   "name": "python",
   "nbconvert_exporter": "python",
   "pygments_lexer": "ipython3",
   "version": "3.10.6"
  },
  "orig_nbformat": 4
 },
 "nbformat": 4,
 "nbformat_minor": 2
}
